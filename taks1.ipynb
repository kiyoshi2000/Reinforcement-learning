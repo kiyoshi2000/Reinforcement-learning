{
 "cells": [
  {
   "cell_type": "markdown",
   "metadata": {},
   "source": [
    "### Authors\n",
    "- Gabriel Souza Lima\n",
    "- Guilherme Mertens\n",
    "- Kiyoshi Araki\n",
    "- Lucas Tramonte"
   ]
  },
  {
   "cell_type": "markdown",
   "metadata": {},
   "source": [
    "### Libraries"
   ]
  },
  {
   "cell_type": "code",
   "execution_count": null,
   "metadata": {},
   "outputs": [],
   "source": [
    "import gymnasium as gym\n",
    "import highway_env\n",
    "import pickle\n",
    "\n",
    "# Load custom configuration\n",
    "with open(\"config.pkl\", \"rb\") as f:\n",
    "    config = pickle.load(f)\n",
    "\n",
    "# Create and configure the environment\n",
    "env = gym.make('highway-fast-v0', render_mode='rgb_array')\n",
    "env.unwrapped.configure(config)\n",
    "print(env.reset())"
   ]
  },
  {
   "cell_type": "markdown",
   "metadata": {},
   "source": [
    "### Neural Network"
   ]
  },
  {
   "cell_type": "code",
   "execution_count": null,
   "metadata": {},
   "outputs": [],
   "source": [
    "import torch\n",
    "import torch.nn as nn\n",
    "import torch.nn.functional as F\n",
    "\n",
    "class DQN(nn.Module):\n",
    "    def __init__(self, input_dim, output_dim):\n",
    "        super(DQN, self).__init__()\n",
    "        self.fc1 = nn.Linear(input_dim, 128)\n",
    "        self.fc2 = nn.Linear(128, 128)\n",
    "        self.out = nn.Linear(128, output_dim)\n",
    "\n",
    "    def forward(self, x):\n",
    "        x = F.relu(self.fc1(x))\n",
    "        x = F.relu(self.fc2(x))\n",
    "        return self.out(x)"
   ]
  },
  {
   "cell_type": "code",
   "execution_count": null,
   "metadata": {},
   "outputs": [],
   "source": [
    "import random\n",
    "from collections import deque, namedtuple\n",
    "\n",
    "Transition = namedtuple(\"Transition\", (\"state\", \"action\", \"reward\", \"next_state\", \"done\"))\n",
    "\n",
    "class ReplayBuffer:\n",
    "    def __init__(self, capacity=100_000):\n",
    "        self.buffer = deque(maxlen=capacity)\n",
    "\n",
    "    def push(self, *args):\n",
    "        self.buffer.append(Transition(*args))\n",
    "\n",
    "    def sample(self, batch_size):\n",
    "        return random.sample(self.buffer, batch_size)\n",
    "\n",
    "    def __len__(self):\n",
    "        return len(self.buffer)"
   ]
  },
  {
   "cell_type": "markdown",
   "metadata": {},
   "source": [
    "### Training function"
   ]
  },
  {
   "cell_type": "code",
   "execution_count": null,
   "metadata": {},
   "outputs": [],
   "source": [
    "import numpy as np\n",
    "\n",
    "def train(env, episodes=300):\n",
    "    obs_shape = env.observation_space.shape\n",
    "    n_actions = env.action_space.n\n",
    "    input_dim = np.prod(obs_shape)\n",
    "\n",
    "    device = torch.device(\"cuda\" if torch.cuda.is_available() else \"cpu\")\n",
    "\n",
    "    policy_net = DQN(input_dim, n_actions).to(device)\n",
    "    target_net = DQN(input_dim, n_actions).to(device)\n",
    "    target_net.load_state_dict(policy_net.state_dict())\n",
    "\n",
    "    optimizer = torch.optim.Adam(policy_net.parameters(), lr=1e-3)\n",
    "    memory = ReplayBuffer()\n",
    "\n",
    "    gamma = 0.99\n",
    "    epsilon = 1.0\n",
    "    epsilon_min = 0.05\n",
    "    epsilon_decay = 0.995\n",
    "    batch_size = 64\n",
    "    target_update_freq = 10\n",
    "\n",
    "    all_rewards = []\n",
    "\n",
    "    for ep in range(episodes):\n",
    "        obs = env.reset()[0]\n",
    "        state = torch.tensor(obs, dtype=torch.float32).flatten().to(device)\n",
    "        done = False\n",
    "        total_reward = 0\n",
    "\n",
    "        while not done:\n",
    "            # Choose action with epsilon-greedy policy\n",
    "            if random.random() < epsilon:\n",
    "                action = env.action_space.sample()\n",
    "            else:\n",
    "                with torch.no_grad():\n",
    "                    q_vals = policy_net(state)\n",
    "                    action = q_vals.argmax().item()\n",
    "\n",
    "            next_obs, reward, done, truncated, _ = env.step(action)\n",
    "            next_state = torch.tensor(next_obs, dtype=torch.float32).flatten().to(device)\n",
    "            memory.push(state, action, reward, next_state, done)\n",
    "\n",
    "            state = next_state\n",
    "            total_reward += reward\n",
    "\n",
    "            # Model update\n",
    "            if len(memory) >= batch_size:\n",
    "                transitions = memory.sample(batch_size)\n",
    "                batch = Transition(*zip(*transitions))\n",
    "\n",
    "                state_batch = torch.stack(batch.state)\n",
    "                action_batch = torch.tensor(batch.action, dtype=torch.long).unsqueeze(1).to(device)\n",
    "                reward_batch = torch.tensor(batch.reward, dtype=torch.float32).to(device)\n",
    "                next_state_batch = torch.stack(batch.next_state)\n",
    "                done_batch = torch.tensor(batch.done, dtype=torch.float32).to(device)\n",
    "\n",
    "                q_values = policy_net(state_batch).gather(1, action_batch).squeeze()\n",
    "                with torch.no_grad():\n",
    "                    next_q = target_net(next_state_batch).max(1)[0]\n",
    "                expected_q = reward_batch + (1 - done_batch) * gamma * next_q\n",
    "\n",
    "                loss = F.mse_loss(q_values, expected_q)\n",
    "                optimizer.zero_grad()\n",
    "                loss.backward()\n",
    "                optimizer.step()\n",
    "\n",
    "        all_rewards.append(total_reward)\n",
    "\n",
    "        epsilon = max(epsilon_min, epsilon * epsilon_decay)\n",
    "\n",
    "        # Update target network\n",
    "        if ep % target_update_freq == 0:\n",
    "            target_net.load_state_dict(policy_net.state_dict())\n",
    "\n",
    "        print(f\"Ep {ep} | Reward: {total_reward:.2f} | Epsilon: {epsilon:.3f}\")\n",
    "\n",
    "    return all_rewards"
   ]
  },
  {
   "cell_type": "markdown",
   "metadata": {},
   "source": [
    "### Plotting"
   ]
  },
  {
   "cell_type": "code",
   "execution_count": null,
   "metadata": {},
   "outputs": [],
   "source": [
    "import matplotlib.pyplot as plt\n",
    "\n",
    "rewards = train(env)\n",
    "\n",
    "plt.plot(rewards)\n",
    "plt.title(\"DQN - Reward per Episode\")\n",
    "plt.xlabel(\"Episode\")\n",
    "plt.ylabel(\"Total Reward\")\n",
    "plt.grid()\n",
    "plt.show()"
   ]
  },
  {
   "cell_type": "markdown",
   "metadata": {},
   "source": [
    "### Visualization\n",
    "\n",
    "Still to implement, a video showing the simulation"
   ]
  }
 ],
 "metadata": {
  "kernelspec": {
   "display_name": ".venv",
   "language": "python",
   "name": "python3"
  },
  "language_info": {
   "codemirror_mode": {
    "name": "ipython",
    "version": 3
   },
   "file_extension": ".py",
   "mimetype": "text/x-python",
   "name": "python",
   "nbconvert_exporter": "python",
   "pygments_lexer": "ipython3",
   "version": "3.12.2"
  }
 },
 "nbformat": 4,
 "nbformat_minor": 2
}
