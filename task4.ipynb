{
 "cells": [
  {
   "cell_type": "markdown",
   "metadata": {},
   "source": [
    "### Authors\n",
    "- Gabriel Souza Lima\n",
    "- Guilherme Mertens\n",
    "- Kiyoshi Araki\n",
    "- Lucas Tramonte"
   ]
  },
  {
   "cell_type": "markdown",
   "metadata": {},
   "source": [
    "# Task 4 — Extra Experiment: Generalization to Different Lane Counts\n",
    "\n",
    "Goal : Explore whether a DQN agent trained on a 4-lane highway generalizes well to different highway configurations with **2, 3, and 5 lanes**.\n",
    "\n",
    "###  Hypothesis\n",
    "\n",
    "A DQN agent trained on a 4-lane highway will perform worse on environments with different lane counts due to increased complexity or different traffic dynamics.\n",
    "\n",
    "### Setup\n",
    "\n",
    "We will:\n",
    "- Load the configuration from `config.pkl`\n",
    "- Evaluate the agent on environments with 2, 3, 4, and 5 lanes\n",
    "- Compare total rewards\n"
   ]
  },
  {
   "cell_type": "markdown",
   "metadata": {},
   "source": [
    "### 1. Import dependencies"
   ]
  },
  {
   "cell_type": "code",
   "execution_count": 9,
   "metadata": {},
   "outputs": [],
   "source": [
    "import gymnasium as gym\n",
    "import highway_env\n",
    "import pickle\n",
    "import torch\n",
    "import torch.nn as nn\n",
    "import numpy as np\n",
    "import matplotlib.pyplot as plt\n",
    "import time"
   ]
  },
  {
   "cell_type": "markdown",
   "metadata": {},
   "source": [
    "###  2. Load configuration and prepare environment"
   ]
  },
  {
   "cell_type": "code",
   "execution_count": 12,
   "metadata": {},
   "outputs": [],
   "source": [
    "# Load the config used during training\n",
    "with open(\"config.pkl\", \"rb\") as f:\n",
    "    config = pickle.load(f)\n",
    "\n",
    "# Create and configure the environment\n",
    "env = gym.make(\"highway-fast-v0\")\n",
    "env.unwrapped.configure(config)\n",
    "\n",
    "# Get the observation space shape dynamically\n",
    "obs_sample, _ = env.reset()\n",
    "obs_shape = obs_sample.shape\n",
    "n_actions = env.action_space.n\n"
   ]
  },
  {
   "cell_type": "markdown",
   "metadata": {},
   "source": [
    "###  Define the DQN Model"
   ]
  },
  {
   "cell_type": "code",
   "execution_count": null,
   "metadata": {},
   "outputs": [],
   "source": [
    "class DQN(nn.Module):\n",
    "    def __init__(self, input_shape, n_actions):\n",
    "        super(DQN, self).__init__()\n",
    "        flat_dim = int(np.prod(input_shape))\n",
    "        self.fc = nn.Sequential(\n",
    "            nn.Linear(flat_dim, 256),\n",
    "            nn.ReLU(),\n",
    "            nn.Linear(256, 256),\n",
    "            nn.ReLU(),\n",
    "            nn.Linear(256, n_actions)\n",
    "        )\n",
    "\n",
    "    def forward(self, x):\n",
    "        x = x.view(x.size(0), -1)\n",
    "        return self.fc(x)"
   ]
  },
  {
   "cell_type": "markdown",
   "metadata": {},
   "source": [
    "###  Load the Trained Model from task 1\n"
   ]
  },
  {
   "cell_type": "code",
   "execution_count": 13,
   "metadata": {},
   "outputs": [
    {
     "data": {
      "text/plain": [
       "DQN(\n",
       "  (fc): Sequential(\n",
       "    (0): Linear(in_features=448, out_features=256, bias=True)\n",
       "    (1): ReLU()\n",
       "    (2): Linear(in_features=256, out_features=256, bias=True)\n",
       "    (3): ReLU()\n",
       "    (4): Linear(in_features=256, out_features=5, bias=True)\n",
       "  )\n",
       ")"
      ]
     },
     "execution_count": 13,
     "metadata": {},
     "output_type": "execute_result"
    }
   ],
   "source": [
    "device = torch.device(\"cuda\" if torch.cuda.is_available() else \"cpu\")\n",
    "policy_net = DQN(obs_shape, n_actions).to(device)\n",
    "policy_net.load_state_dict(torch.load(\"trained_dqn_agent.pth\", map_location=device))\n",
    "policy_net.eval()\n"
   ]
  },
  {
   "cell_type": "markdown",
   "metadata": {},
   "source": [
    "###  Evaluation Function\n",
    "\n",
    "This function tests the trained agent on a highway environment with a given number of lanes and returns total rewards over multiple episodes.\n"
   ]
  },
  {
   "cell_type": "code",
   "execution_count": 14,
   "metadata": {},
   "outputs": [],
   "source": [
    "def evaluate_on_lanes(n_lanes, episodes=5):\n",
    "    # Load base config\n",
    "    with open(\"config.pkl\", \"rb\") as f:\n",
    "        base_config = pickle.load(f)\n",
    "\n",
    "    config = base_config.copy()\n",
    "    config[\"lanes_count\"] = n_lanes\n",
    "\n",
    "    env = gym.make(\"highway-fast-v0\", render_mode=\"rgb_array\")\n",
    "    env.unwrapped.configure(config)\n",
    "\n",
    "    episode_rewards = []\n",
    "\n",
    "    for _ in range(episodes):\n",
    "        obs, _ = env.reset()\n",
    "        total_reward = 0\n",
    "        for _ in range(400):\n",
    "            state_tensor = torch.tensor(obs, dtype=torch.float32).unsqueeze(0).to(device)\n",
    "            with torch.no_grad():\n",
    "                action = policy_net(state_tensor).argmax().item()\n",
    "            obs, reward, done, truncated, _ = env.step(action)\n",
    "            total_reward += reward\n",
    "            if done or truncated:\n",
    "                break\n",
    "        episode_rewards.append(total_reward)\n",
    "\n",
    "    env.close()\n",
    "    return episode_rewards\n"
   ]
  },
  {
   "cell_type": "code",
   "execution_count": 15,
   "metadata": {},
   "outputs": [
    {
     "name": "stdout",
     "output_type": "stream",
     "text": [
      "2 lanes → Avg Reward: 34.25, Std: 18.21\n",
      "3 lanes → Avg Reward: 41.63, Std: 4.29\n",
      "4 lanes → Avg Reward: 45.88, Std: 4.72\n",
      "5 lanes → Avg Reward: 46.99, Std: 5.93\n"
     ]
    }
   ],
   "source": [
    "lane_variants = [2, 3, 4, 5]\n",
    "results = {}\n",
    "\n",
    "for lanes in lane_variants:\n",
    "    rewards = evaluate_on_lanes(lanes)\n",
    "    results[lanes] = rewards\n",
    "    print(f\"{lanes} lanes → Avg Reward: {np.mean(rewards):.2f}, Std: {np.std(rewards):.2f}\")\n"
   ]
  },
  {
   "cell_type": "code",
   "execution_count": 16,
   "metadata": {},
   "outputs": [
    {
     "data": {
      "image/png": "[encoded data removed]",
      "text/plain": [
       "<Figure size 800x500 with 1 Axes>"
      ]
     },
     "metadata": {},
     "output_type": "display_data"
    }
   ],
   "source": [
    "means = [np.mean(results[lanes]) for lanes in lane_variants]\n",
    "stds = [np.std(results[lanes]) for lanes in lane_variants]\n",
    "\n",
    "plt.figure(figsize=(8, 5))\n",
    "plt.errorbar(lane_variants, means, yerr=stds, fmt='-o', capsize=5)\n",
    "plt.xlabel(\"Number of Lanes\")\n",
    "plt.ylabel(\"Average Total Reward\")\n",
    "plt.title(\"DQN Agent Performance Across Lane Variants\")\n",
    "plt.grid(True)\n",
    "plt.show()\n"
   ]
  },
  {
   "cell_type": "markdown",
   "metadata": {},
   "source": [
    "- Performance Trend:\n",
    "There's a clear positive correlation between the number of lanes and the average total reward.\n",
    "\n",
    "The DQN agent performs progressively better as more lanes are added, suggesting the agent benefits from increased flexibility or maneuverability.\n",
    "\n",
    "- Performance Plateau:\n",
    "The largest jump occurs from 2 to 3 lanes (+7.38 reward).\n",
    "\n",
    "Gains diminish as the number of lanes increases further:\n",
    "\n",
    "+4.25 (from 3 → 4 lanes)\n",
    "\n",
    "+1.11 (from 4 → 5 lanes)\n",
    "\n",
    "This indicates a performance plateau beyond 4 lanes — adding more lanes yields diminishing returns.\n",
    "\n",
    "-  Stability:\n",
    "Highest variability (std: 18.21) is at 2 lanes, suggesting unstable behavior or harder learning due to restricted space.\n",
    "\n",
    "From 3 lanes onward, the standard deviation drops sharply and stays low (around 4–6), implying:\n",
    "\n",
    "    - More consistent decision-making.\n",
    "\n",
    "    - Better generalization across episodes.\n",
    "\n",
    "\n",
    "With only 2 lanes, the agent likely has fewer options to avoid collisions or make strategic lane changes, leading to erratic performance.\n",
    "\n",
    "More lanes provide more strategic depth and room for the agent to execute learned policies effectively"
   ]
  }
 ],
 "metadata": {
  "kernelspec": {
   "display_name": ".venv",
   "language": "python",
   "name": "python3"
  },
  "language_info": {
   "codemirror_mode": {
    "name": "ipython",
    "version": 3
   },
   "file_extension": ".py",
   "mimetype": "text/x-python",
   "name": "python",
   "nbconvert_exporter": "python",
   "pygments_lexer": "ipython3",
   "version": "3.12.3"
  }
 },
 "nbformat": 4,
 "nbformat_minor": 2
}
