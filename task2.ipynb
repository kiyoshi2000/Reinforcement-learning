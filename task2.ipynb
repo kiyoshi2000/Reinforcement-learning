{
 "cells": [
  {
   "cell_type": "markdown",
   "metadata": {},
   "source": [
    "### Libraries"
   ]
  },
  {
   "cell_type": "code",
   "execution_count": null,
   "metadata": {},
   "outputs": [],
   "source": [
    "import gymnasium as gym\n",
    "import highway_env\n",
    "import torch\n",
    "import torch.nn as nn\n",
    "import torch.nn.functional as F\n",
    "import numpy as np\n",
    "import random\n",
    "from collections import deque, namedtuple\n",
    "import matplotlib.pyplot as plt"
   ]
  },
  {
   "cell_type": "markdown",
   "metadata": {},
   "source": [
    "### Defining environment"
   ]
  },
  {
   "cell_type": "code",
   "execution_count": null,
   "metadata": {},
   "outputs": [],
   "source": [
    "config = {\n",
    "    \"observation\": {\n",
    "        \"type\": \"Kinematics\",\n",
    "        \"vehicles_count\": 5,\n",
    "        \"features\": [\"x\", \"y\", \"vx\", \"vy\"],\n",
    "        \"absolute\": False,\n",
    "    },\n",
    "    \"action\": {\n",
    "        \"type\": \"ContinuousAction\",\n",
    "    },\n",
    "    \"lanes_count\": 2,\n",
    "    \"vehicles_count\": 10,\n",
    "    \"duration\": 40,\n",
    "    \"simulation_frequency\": 15,\n",
    "    \"policy_frequency\": 5,\n",
    "    \"screen_width\": 600,\n",
    "    \"screen_height\": 150,\n",
    "    \"scaling\": 5.5,\n",
    "    \"render_agent\": True,\n",
    "}\n",
    "\n",
    "env = gym.make(\"merge-v0\", render_mode=\"rgb_array\")\n",
    "env.unwrapped.configure(config)"
   ]
  },
  {
   "cell_type": "markdown",
   "metadata": {},
   "source": [
    "### Neural Network"
   ]
  },
  {
   "cell_type": "code",
   "execution_count": null,
   "metadata": {},
   "outputs": [],
   "source": [
    "class Actor(nn.Module):\n",
    "    def __init__(self, state_dim, action_dim):\n",
    "        super().__init__()\n",
    "        self.fc1 = nn.Linear(state_dim, 256)\n",
    "        self.fc2 = nn.Linear(256, 256)\n",
    "        self.out = nn.Linear(256, action_dim)\n",
    "\n",
    "    def forward(self, x):\n",
    "        x = F.relu(self.fc1(x))\n",
    "        x = F.relu(self.fc2(x))\n",
    "        return torch.tanh(self.out(x))\n",
    "\n",
    "class Critic(nn.Module):\n",
    "    def __init__(self, state_dim, action_dim):\n",
    "        super().__init__()\n",
    "        self.fc1 = nn.Linear(state_dim + action_dim, 256)\n",
    "        self.fc2 = nn.Linear(256, 256)\n",
    "        self.out = nn.Linear(256, 1)\n",
    "\n",
    "    def forward(self, state, action):\n",
    "        x = torch.cat([state, action], dim=1)\n",
    "        x = F.relu(self.fc1(x))\n",
    "        x = F.relu(self.fc2(x))\n",
    "        return self.out(x)"
   ]
  },
  {
   "cell_type": "code",
   "execution_count": null,
   "metadata": {},
   "outputs": [],
   "source": [
    "Transition = namedtuple(\"Transition\", (\"state\", \"action\", \"reward\", \"next_state\", \"done\"))\n",
    "\n",
    "class ReplayBuffer:\n",
    "    def __init__(self, capacity=100000):\n",
    "        self.buffer = deque(maxlen=capacity)\n",
    "\n",
    "    def push(self, *args):\n",
    "        self.buffer.append(Transition(*args))\n",
    "\n",
    "    def sample(self, batch_size):\n",
    "        return random.sample(self.buffer, batch_size)\n",
    "\n",
    "    def __len__(self):\n",
    "        return len(self.buffer)"
   ]
  },
  {
   "cell_type": "markdown",
   "metadata": {},
   "source": [
    "### Training function\n",
    "\n",
    "Could not fix the problem below. Therefore, we could not check whether the next codes work, so we did it based on other examples."
   ]
  },
  {
   "cell_type": "code",
   "execution_count": null,
   "metadata": {},
   "outputs": [],
   "source": [
    "def train_ddpg(env, episodes=200):\n",
    "    state_dim = env.observation_space.shape[0]\n",
    "    action_dim = env.action_space.shape[0]\n",
    "\n",
    "    device = torch.device(\"cuda\" if torch.cuda.is_available() else \"cpu\")\n",
    "    actor = Actor(state_dim, action_dim).to(device)\n",
    "    target_actor = Actor(state_dim, action_dim).to(device)\n",
    "    target_actor.load_state_dict(actor.state_dict())\n",
    "\n",
    "    critic = Critic(state_dim, action_dim).to(device)\n",
    "    target_critic = Critic(state_dim, action_dim).to(device)\n",
    "    target_critic.load_state_dict(critic.state_dict())\n",
    "\n",
    "    actor_optim = torch.optim.Adam(actor.parameters(), lr=1e-4)\n",
    "    critic_optim = torch.optim.Adam(critic.parameters(), lr=1e-3)\n",
    "    memory = ReplayBuffer()\n",
    "\n",
    "    gamma = 0.99\n",
    "    tau = 0.005\n",
    "    batch_size = 64\n",
    "    exploration_noise = 0.1\n",
    "\n",
    "    all_rewards = []\n",
    "\n",
    "    for ep in range(episodes):\n",
    "        obs = env.reset()[0]\n",
    "        state = torch.tensor(obs, dtype=torch.float32).unsqueeze(0).to(device)\n",
    "        total_reward = 0\n",
    "        done = False\n",
    "\n",
    "        while not done:\n",
    "            with torch.no_grad():\n",
    "                action = actor(state).cpu().numpy()[0]\n",
    "                action += np.random.normal(0, exploration_noise, size=action_dim)\n",
    "                action = np.clip(action, -1, 1)\n",
    "\n",
    "            next_obs, reward, done, truncated, _ = env.step(action)\n",
    "            next_state = torch.tensor(next_obs, dtype=torch.float32).unsqueeze(0).to(device)\n",
    "            memory.push(state, torch.tensor(action).unsqueeze(0).float().to(device),\n",
    "                        reward, next_state, done)\n",
    "\n",
    "            state = next_state\n",
    "            total_reward += reward\n",
    "\n",
    "            if len(memory) >= batch_size:\n",
    "                batch = Transition(*zip(*memory.sample(batch_size)))\n",
    "                states = torch.cat(batch.state)\n",
    "                actions = torch.cat(batch.action)\n",
    "                rewards = torch.tensor(batch.reward, dtype=torch.float32).unsqueeze(1).to(device)\n",
    "                next_states = torch.cat(batch.next_state)\n",
    "                dones = torch.tensor(batch.done, dtype=torch.float32).unsqueeze(1).to(device)\n",
    "\n",
    "                with torch.no_grad():\n",
    "                    target_actions = target_actor(next_states)\n",
    "                    target_q = target_critic(next_states, target_actions)\n",
    "                    y = rewards + gamma * (1 - dones) * target_q\n",
    "\n",
    "                critic_loss = F.mse_loss(critic(states, actions), y)\n",
    "                critic_optim.zero_grad()\n",
    "                critic_loss.backward()\n",
    "                critic_optim.step()\n",
    "\n",
    "                # Update the actor\n",
    "                actor_loss = -critic(states, actor(states)).mean()\n",
    "                actor_optim.zero_grad()\n",
    "                actor_loss.backward()\n",
    "                actor_optim.step()\n",
    "\n",
    "                # Updates target networks\n",
    "                for param, target_param in zip(actor.parameters(), target_actor.parameters()):\n",
    "                    target_param.data.copy_(tau * param.data + (1 - tau) * target_param.data)\n",
    "\n",
    "                for param, target_param in zip(critic.parameters(), target_critic.parameters()):\n",
    "                    target_param.data.copy_(tau * param.data + (1 - tau) * target_param.data)\n",
    "\n",
    "        all_rewards.append(total_reward)\n",
    "        print(f\"Ep {ep} | Reward: {total_reward:.2f}\")\n",
    "\n",
    "    return all_rewards"
   ]
  },
  {
   "cell_type": "markdown",
   "metadata": {},
   "source": [
    "### Plotting"
   ]
  },
  {
   "cell_type": "code",
   "execution_count": null,
   "metadata": {},
   "outputs": [],
   "source": [
    "rewards = train_ddpg(env)\n",
    "\n",
    "plt.plot(rewards)\n",
    "plt.xlabel(\"Episode\")\n",
    "plt.ylabel(\"Total reward\")\n",
    "plt.title(\"DDPG Training - Ongoing Actions\")\n",
    "plt.grid(True)\n",
    "plt.show()"
   ]
  },
  {
   "cell_type": "markdown",
   "metadata": {},
   "source": [
    "### Visualization\n",
    "\n",
    "Still to implement, a video showing the simulation"
   ]
  }
 ],
 "metadata": {
  "kernelspec": {
   "display_name": ".venv",
   "language": "python",
   "name": "python3"
  },
  "language_info": {
   "codemirror_mode": {
    "name": "ipython",
    "version": 3
   },
   "file_extension": ".py",
   "mimetype": "text/x-python",
   "name": "python",
   "nbconvert_exporter": "python",
   "pygments_lexer": "ipython3",
   "version": "3.12.2"
  }
 },
 "nbformat": 4,
 "nbformat_minor": 2
}
